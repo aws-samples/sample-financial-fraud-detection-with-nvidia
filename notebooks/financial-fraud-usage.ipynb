{
 "cells": [
  {
   "cell_type": "markdown",
   "metadata": {},
   "source": [
    "# Financial Fraud Detection"
   ]
  },
  {
   "cell_type": "markdown",
   "metadata": {},
   "source": [
    "- The objective of this notebook is to showcase the usage of the [___financial-fraud-training___ container](https://catalog.ngc.nvidia.com/orgs/nvidia/teams/cugraph/containers/financial-fraud-training) and how to deploy the produced trained models on [NVIDIA Dynamo-Triton](https://catalog.ngc.nvidia.com/orgs/nvidia/containers/tritonserver).\n",
    "- We use [IBM TabFormer](https://github.com/IBM/TabFormer) as an example dataset and the dataset is preprocess before model training\n",
    "\n",
    "NOTE:\n",
    "* The preprocessing code is written specifically for the TabFormer dataset and will not work with other datasets.\n",
    "* Additionally, a familiarity with [Jupyter](https://docs.jupyter.org/en/latest/what_is_jupyter.html) is assumed."
   ]
  },
  {
   "cell_type": "markdown",
   "metadata": {},
   "source": [
    "# Environment Setup\n",
    "This Notebook is designed to work in Sageamaker Studio's Jupyter Lab environment\n",
    "\n",
    "Please create a Conda environment and add that to the notebook - See the [README](../README.md) file"
   ]
  },
  {
   "cell_type": "markdown",
   "metadata": {},
   "source": [
    "-----\n",
    "## Import libraries (both environments)"
   ]
  },
  {
   "cell_type": "code",
   "execution_count": 164,
   "metadata": {},
   "outputs": [],
   "source": [
    "import os\n",
    "import sys\n",
    "import json\n",
    "import time\n",
    "import boto3"
   ]
  },
  {
   "cell_type": "markdown",
   "metadata": {},
   "source": [
    "----\n",
    "# Step 1: Get and Prepare the data"
   ]
  },
  {
   "cell_type": "markdown",
   "metadata": {},
   "source": [
    "## For Local\n",
    "1. Download the dataset: https://ibm.ent.box.com/v/tabformer-data/folder/130747715605\n",
    "2. untar and uncompreess the file: `tar -xvzf ./transactions.tgz`\n",
    "3. Put card_transaction.v1.csv in in the `data/TabFormer/raw` folder\n"
   ]
  },
  {
   "cell_type": "code",
   "execution_count": 146,
   "metadata": {},
   "outputs": [
    {
     "name": "stdout",
     "output_type": "stream",
     "text": [
      "total 2.2G\n",
      "-rw-r--r-- 1 sagemaker-user users 2.2G Oct 28  2020 card_transaction.v1.csv\n",
      "-rw-r--r-- 1 sagemaker-user users  112 Jul 18 15:25 readme.md\n"
     ]
    }
   ],
   "source": [
    "# verify that the compressed file was uploaded successfully - the size should be 266M\n",
    "!ls -lh ../data/TabFormer/raw"
   ]
  },
  {
   "cell_type": "code",
   "execution_count": 102,
   "metadata": {},
   "outputs": [
    {
     "name": "stdout",
     "output_type": "stream",
     "text": [
      "card_transaction.v1.csv\n"
     ]
    }
   ],
   "source": [
    "# Uncompress/untar the file\n",
    "!tar xvzf ../data/TabFormer/raw/transactions.tgz -C ../data/TabFormer/raw/"
   ]
  },
  {
   "cell_type": "markdown",
   "metadata": {},
   "source": [
    "__If__ drag-and-drop is not working, please run the [Download TabFormer](./extra/download-tabformer.ipynb) notebook is the \"extra\" folder "
   ]
  },
  {
   "cell_type": "markdown",
   "metadata": {},
   "source": [
    "## Check data folder structure\n",
    "The goal is to produce the following structure\n",
    "\n",
    "```\n",
    ".\n",
    "    data\n",
    "    └── TabFormer\n",
    "        └── raw\n",
    "            └── card_transaction.v1.csv\n",
    "```"
   ]
  },
  {
   "cell_type": "code",
   "execution_count": 165,
   "metadata": {},
   "outputs": [],
   "source": [
    "# Once the raw data is placed as described above, set the path to the TabFormer directory\n",
    "\n",
    "# Change this path to point to TabFormer data\n",
    "data_root_dir = os.path.abspath('../data/TabFormer/') \n",
    "\n",
    "# Change this path to the directory where you want to save your model\n",
    "model_output_dir = os.path.join(data_root_dir, 'trained_models')\n",
    "\n",
    "# Path to save the trained model\n",
    "os.makedirs(model_output_dir, exist_ok=True)"
   ]
  },
  {
   "cell_type": "markdown",
   "metadata": {},
   "source": [
    "### Define python function to print directory tree"
   ]
  },
  {
   "cell_type": "code",
   "execution_count": 166,
   "metadata": {},
   "outputs": [],
   "source": [
    "def print_tree(directory, prefix=\"\"):\n",
    "    \"\"\"Recursively prints the directory tree starting at 'directory'.\"\"\"\n",
    "    # Retrieve a sorted list of entries in the directory\n",
    "    entries = sorted(os.listdir(directory))\n",
    "    entries_count = len(entries)\n",
    "    \n",
    "    for index, entry in enumerate(entries):\n",
    "        path = os.path.join(directory, entry)\n",
    "        # Determine the branch connector\n",
    "        if index == entries_count - 1:\n",
    "            connector = \"└── \"\n",
    "            extension = \"    \"\n",
    "        else:\n",
    "            connector = \"├── \"\n",
    "            extension = \"│   \"\n",
    "        \n",
    "        print(prefix + connector + entry)\n",
    "        \n",
    "        # If the entry is a directory, recursively print its contents\n",
    "        if os.path.isdir(path):\n",
    "            print_tree(path, prefix + extension)"
   ]
  },
  {
   "cell_type": "code",
   "execution_count": 167,
   "metadata": {},
   "outputs": [
    {
     "name": "stdout",
     "output_type": "stream",
     "text": [
      "├── raw\n",
      "│   ├── card_transaction.v1.csv\n",
      "│   └── readme.md\n",
      "└── trained_models\n"
     ]
    }
   ],
   "source": [
    "# Check if the raw data has been placed properly\n",
    "print_tree(data_root_dir)"
   ]
  },
  {
   "cell_type": "markdown",
   "metadata": {},
   "source": [
    "---\n",
    "# Step 2: Preprocess the data \n",
    "- Import the Python function for preprocessing the TabFormer data\n",
    "- Call `preprocess_TabFormer` function to prepare the data\n",
    "\n",
    "NOTE: The preprocessing can takes a few minutes\n"
   ]
  },
  {
   "cell_type": "code",
   "execution_count": 168,
   "metadata": {},
   "outputs": [],
   "source": [
    "# Add the \"src\" directory to the search path\n",
    "src_dir = os.path.abspath(os.path.join(os.path.dirname(os.getcwd()), 'src'))\n",
    "sys.path.insert(0, src_dir)\n",
    "\n",
    "# should be able to import from \"src\" folder now\n",
    "from preprocess_TabFormer import preprocess_data"
   ]
  },
  {
   "cell_type": "code",
   "execution_count": 169,
   "metadata": {},
   "outputs": [
    {
     "name": "stdout",
     "output_type": "stream",
     "text": [
      "Correlation (Card, Fraud) =   6.59%\n",
      "Correlation (Chip, Fraud) =   5.63%\n",
      "Correlation (Errors, Fraud) =   1.81%\n",
      "Correlation (State, Fraud) =  35.92%\n",
      "Correlation (City, Fraud) =  32.47%\n",
      "Correlation (Zip, Fraud) =  14.99%\n",
      "Correlation (MCC, Fraud) =  12.70%\n",
      "Correlation (Merchant, Fraud) =  34.88%\n",
      "Correlation (User, Fraud) =   3.40%\n",
      "Correlation (Day, Fraud) =   0.26%\n",
      "Correlation (Month, Fraud) =   0.23%\n",
      "Correlation (Year, Fraud) =   2.35%\n",
      "r_pb (Time) = -0.00 with p_value 0.00\n",
      "r_pb (Amount) = 0.03 with p_value 0.00\n",
      "Transaction ID range (0, 301523)\n",
      "Merchant ID range (0, 42941)\n",
      "User ID range (0, 4872)\n",
      "Transaction ID range (0, 25802)\n",
      "Merchant ID range (0, 6772)\n",
      "User ID range (0, 4794)\n"
     ]
    }
   ],
   "source": [
    "# Preprocess the data\n",
    "mask_mapping, feature_mask = preprocess_data(data_root_dir)\n",
    "\n",
    "# this will output status as it correlates different attributes with target column"
   ]
  },
  {
   "cell_type": "code",
   "execution_count": 108,
   "metadata": {},
   "outputs": [
    {
     "name": "stdout",
     "output_type": "stream",
     "text": [
      "├── gnn\n",
      "│   ├── edges\n",
      "│   │   └── node_to_node.csv\n",
      "│   ├── nodes\n",
      "│   │   ├── node.csv\n",
      "│   │   ├── node_label.csv\n",
      "│   │   └── offset_range_of_training_node.json\n",
      "│   └── test_gnn\n",
      "│       ├── edges\n",
      "│       │   └── node_to_node.csv\n",
      "│       └── nodes\n",
      "│           ├── node.csv\n",
      "│           └── node_label.csv\n",
      "├── raw\n",
      "│   ├── card_transaction.v1.csv\n",
      "│   ├── readme.md\n",
      "│   └── transactions.tgz\n",
      "├── trained_models\n",
      "└── xgb\n",
      "    ├── test.csv\n",
      "    ├── training.csv\n",
      "    └── validation.csv\n"
     ]
    }
   ],
   "source": [
    "# You should not see files under a \"gnn\" folder and under a \"xgb\" folder\n",
    "print_tree(data_root_dir)"
   ]
  },
  {
   "cell_type": "code",
   "execution_count": 109,
   "metadata": {},
   "outputs": [
    {
     "name": "stdout",
     "output_type": "stream",
     "text": [
      "upload: ../data/TabFormer/gnn/nodes/offset_range_of_training_node.json to s3://ml-on-containers/data/gnn/nodes/offset_range_of_training_node.json\n",
      "upload: ../data/TabFormer/gnn/nodes/node_label.csv to s3://ml-on-containers/data/gnn/nodes/node_label.csv\n",
      "upload: ../data/TabFormer/gnn/edges/node_to_node.csv to s3://ml-on-containers/data/gnn/edges/node_to_node.csv\n",
      "upload: ../data/TabFormer/gnn/test_gnn/edges/node_to_node.csv to s3://ml-on-containers/data/gnn/test_gnn/edges/node_to_node.csv\n",
      "upload: ../data/TabFormer/gnn/test_gnn/nodes/node_label.csv to s3://ml-on-containers/data/gnn/test_gnn/nodes/node_label.csv\n",
      "upload: ../data/TabFormer/xgb/test.csv to s3://ml-on-containers/data/xgb/test.csv\n",
      "upload: ../data/TabFormer/gnn/nodes/node.csv to s3://ml-on-containers/data/gnn/nodes/node.csv\n",
      "upload: ../data/TabFormer/xgb/validation.csv to s3://ml-on-containers/data/xgb/validation.csv\n",
      "upload: ../data/TabFormer/gnn/test_gnn/nodes/node.csv to s3://ml-on-containers/data/gnn/test_gnn/nodes/node.csv\n",
      "upload: ../data/TabFormer/xgb/training.csv to s3://ml-on-containers/data/xgb/training.csv\n"
     ]
    }
   ],
   "source": [
    "# copy data to S3 to get pulled during training\n",
    "! aws s3 sync \"../data/TabFormer/\" s3://ml-on-containers/data/ --exclude \"*/test_gnn\" --force --delete"
   ]
  },
  {
   "cell_type": "markdown",
   "metadata": {},
   "source": [
    "-----\n",
    "# Step 3:  Now train the model using the financial-fraud-training container\n"
   ]
  },
  {
   "cell_type": "markdown",
   "metadata": {},
   "source": [
    "## Create training configuration file\n",
    "NOTE: Training configuration file must conform to schema defined [here](https://docs.nvidia.com/nim/financial-fraud-training/latest/configuration/config-json.html)"
   ]
  },
  {
   "cell_type": "markdown",
   "metadata": {},
   "source": [
    "#### TODO: Put information about how Sagemaker training imports data from S3"
   ]
  },
  {
   "cell_type": "code",
   "execution_count": 153,
   "metadata": {},
   "outputs": [],
   "source": [
    "sagamaker_config = {\n",
    "    \"paths\": {\n",
    "        \"data_dir\": \"/opt/ml/input/data/data\",\n",
    "        \"output_dir\": \"/opt/ml/model\"\n",
    "    },\n",
    "    \"models\": [\n",
    "    {\n",
    "      \"kind\": \"GraphSAGE_XGBoost\",\n",
    "      \"gpu\": \"single\",\n",
    "      \"hyperparameters\": {\n",
    "        \"gnn\":{\n",
    "          \"hidden_channels\": 16,\n",
    "          \"n_hops\": 1,\n",
    "          \"dropout_prob\": 0.1,\n",
    "          \"batch_size\": 1024,\n",
    "          \"fan_out\": 16,\n",
    "          \"num_epochs\": 16\n",
    "        },\n",
    "        \"xgb\": {\n",
    "          \"max_depth\": 6,\n",
    "          \"learning_rate\": 0.2,\n",
    "          \"num_parallel_tree\": 3,\n",
    "          \"num_boost_round\": 512,\n",
    "          \"gamma\": 0.0\n",
    "        }\n",
    "\n",
    "      }\n",
    "    }\n",
    "  ]\n",
    "}"
   ]
  },
  {
   "cell_type": "markdown",
   "metadata": {},
   "source": [
    "#### Save the training configuration as a json file"
   ]
  },
  {
   "cell_type": "code",
   "execution_count": 154,
   "metadata": {},
   "outputs": [
    {
     "name": "stdout",
     "output_type": "stream",
     "text": [
      "upload: ./sagemaker_config.json to s3://ml-on-containers/config/training_config.json\n"
     ]
    }
   ],
   "source": [
    "training_config_file_name = 'sagemaker_config.json'\n",
    "\n",
    "with open(os.path.join(training_config_file_name), 'w') as json_file:\n",
    "    json.dump(sagamaker_config, json_file, indent=4)\n",
    "\n",
    "# clone config to S3\n",
    "! aws s3 cp ./sagemaker_config.json s3://ml-on-containers/config/training_config.json"
   ]
  },
  {
   "cell_type": "code",
   "execution_count": 155,
   "metadata": {},
   "outputs": [],
   "source": [
    "# TODO: Explain the Sageamker create training job API call here"
   ]
  },
  {
   "cell_type": "code",
   "execution_count": 156,
   "metadata": {},
   "outputs": [],
   "source": [
    "# run the training in Sagemaker\n",
    "# define training job\n",
    "training_job_name = \"new-nim-\" + str(int(time.time()))\n",
    "\n",
    "# send training job to parameter store\n",
    "ssm_client = boto3.client(\"ssm\")\n",
    "\n",
    "ssm_client.put_parameter(Name=\"/triton/model\", Value=training_job_name, Overwrite=True) \n",
    "\n",
    "sagemaker_client = boto3.client('sagemaker')\n",
    "\n",
    "response = sagemaker_client.create_training_job(\n",
    "    TrainingJobName=training_job_name,\n",
    "    RoleArn=\"arn:aws:iam::771830474512:role/service-role/AmazonSageMaker-ExecutionRole-20250314T121895\",\n",
    "    AlgorithmSpecification={\n",
    "        'TrainingImage': \"771830474512.dkr.ecr.us-east-1.amazonaws.com/ml/ml-on-gpu:latest\",\n",
    "        'TrainingInputMode': 'File',\n",
    "        'ContainerEntrypoint': [\n",
    "            'python',\n",
    "            'main.py',\n",
    "            '--config',\n",
    "            \"/opt/ml/input/data/config/training_config.json\"\n",
    "        ]\n",
    "    },\n",
    "    InputDataConfig=[\n",
    "        {\n",
    "            'ChannelName': 'data',\n",
    "            'DataSource': {\n",
    "                'S3DataSource': {\n",
    "                    'S3DataType': 'S3Prefix',\n",
    "                    'S3Uri': 's3://ml-on-containers/data/gnn/',\n",
    "                    'S3DataDistributionType': 'FullyReplicated'\n",
    "                }\n",
    "            },\n",
    "            'ContentType': 'application/x-directory',\n",
    "            'InputMode': 'File',\n",
    "            'CompressionType': 'None'\n",
    "        },\n",
    "        {\n",
    "            'ChannelName': 'config',\n",
    "            'DataSource': {\n",
    "                'S3DataSource': {\n",
    "                    'S3DataType': 'S3Prefix',\n",
    "                    'S3Uri': 's3://ml-on-containers/config/',\n",
    "                    'S3DataDistributionType': 'FullyReplicated',\n",
    "                }\n",
    "            },\n",
    "            'ContentType': 'application/x-directory',\n",
    "            'InputMode': 'File',\n",
    "            'CompressionType': 'None'\n",
    "        }\n",
    "    ],\n",
    "    OutputDataConfig={\n",
    "        'S3OutputPath': 's3://ml-on-containers/output/'\n",
    "    },\n",
    "    ResourceConfig={\n",
    "        'InstanceType': 'ml.g4dn.2xlarge',\n",
    "        'InstanceCount': 1,\n",
    "        'VolumeSizeInGB': 30\n",
    "    },\n",
    "    StoppingCondition={\n",
    "        'MaxRuntimeInSeconds': 86400\n",
    "    }\n",
    ")"
   ]
  },
  {
   "cell_type": "code",
   "execution_count": 157,
   "metadata": {},
   "outputs": [],
   "source": [
    "from IPython.display import clear_output\n",
    "def poll_training_status(job_name):\n",
    "    sagemaker_client = boto3.client('sagemaker')\n",
    "    \n",
    "    while True:\n",
    "        response = sagemaker_client.describe_training_job(TrainingJobName=job_name)\n",
    "        status = response['TrainingJobStatus']\n",
    "        \n",
    "        # Clear previous output\n",
    "        clear_output(wait=True)\n",
    "        \n",
    "        # Print current status with timestamp\n",
    "        print(f\"Job: {job_name}\")\n",
    "        print(f\"Status: {status}\")\n",
    "        print(f\"Last checked: {time.strftime('%Y-%m-%d %H:%M:%S')}\")\n",
    "        \n",
    "        if status in ['Completed', 'Failed', 'Stopped']:\n",
    "            break\n",
    "            \n",
    "        # Wait before next check\n",
    "        time.sleep(30)\n",
    "    \n",
    "    return status"
   ]
  },
  {
   "cell_type": "code",
   "execution_count": 158,
   "metadata": {},
   "outputs": [
    {
     "name": "stdout",
     "output_type": "stream",
     "text": [
      "Job: new-nim-1755615683\n",
      "Status: Completed\n",
      "Last checked: 2025-08-19 15:16:31\n"
     ]
    }
   ],
   "source": [
    "final_status = poll_training_status(training_job_name)"
   ]
  },
  {
   "cell_type": "code",
   "execution_count": 139,
   "metadata": {},
   "outputs": [],
   "source": [
    "gnn_data_dir = os.path.join(data_root_dir, \"gnn\")"
   ]
  },
  {
   "cell_type": "markdown",
   "metadata": {},
   "source": [
    "---"
   ]
  },
  {
   "cell_type": "markdown",
   "metadata": {},
   "source": [
    "# Step 3: Launch the model in ECS"
   ]
  },
  {
   "cell_type": "code",
   "execution_count": null,
   "metadata": {},
   "outputs": [],
   "source": []
  },
  {
   "cell_type": "markdown",
   "metadata": {},
   "source": [
    "----\n",
    "# Step 4:  Serve your python backend model using NVIDIA Dynamo-Triton"
   ]
  },
  {
   "cell_type": "markdown",
   "metadata": {},
   "source": [
    "#### Install NVIDIA Dynamo-Triton Client"
   ]
  },
  {
   "cell_type": "code",
   "execution_count": 118,
   "metadata": {},
   "outputs": [
    {
     "name": "stdout",
     "output_type": "stream",
     "text": [
      "Requirement already satisfied: tritonclient[all] in /opt/conda/lib/python3.12/site-packages (2.55.0)\n",
      "Requirement already satisfied: numpy<2,>=1.19.1 in /opt/conda/lib/python3.12/site-packages (from tritonclient[all]) (1.26.4)\n",
      "Requirement already satisfied: python-rapidjson>=0.9.1 in /opt/conda/lib/python3.12/site-packages (from tritonclient[all]) (1.21)\n",
      "Requirement already satisfied: urllib3>=2.0.7 in /opt/conda/lib/python3.12/site-packages (from tritonclient[all]) (2.4.0)\n",
      "Requirement already satisfied: aiohttp<4.0.0,>=3.8.1 in /opt/conda/lib/python3.12/site-packages (from tritonclient[all]) (3.9.5)\n",
      "Requirement already satisfied: cuda-python in /opt/conda/lib/python3.12/site-packages (from tritonclient[all]) (12.9.0)\n",
      "Requirement already satisfied: geventhttpclient>=2.3.3 in /opt/conda/lib/python3.12/site-packages (from tritonclient[all]) (2.3.4)\n",
      "Requirement already satisfied: grpcio<1.68,>=1.63.0 in /opt/conda/lib/python3.12/site-packages (from tritonclient[all]) (1.67.1)\n",
      "Requirement already satisfied: packaging>=14.1 in /opt/conda/lib/python3.12/site-packages (from tritonclient[all]) (24.2)\n",
      "Requirement already satisfied: protobuf<6.0dev,>=5.26.1 in /opt/conda/lib/python3.12/site-packages (from tritonclient[all]) (5.28.3)\n",
      "Requirement already satisfied: aiosignal>=1.1.2 in /opt/conda/lib/python3.12/site-packages (from aiohttp<4.0.0,>=3.8.1->tritonclient[all]) (1.3.2)\n",
      "Requirement already satisfied: attrs>=17.3.0 in /opt/conda/lib/python3.12/site-packages (from aiohttp<4.0.0,>=3.8.1->tritonclient[all]) (23.2.0)\n",
      "Requirement already satisfied: frozenlist>=1.1.1 in /opt/conda/lib/python3.12/site-packages (from aiohttp<4.0.0,>=3.8.1->tritonclient[all]) (1.6.0)\n",
      "Requirement already satisfied: multidict<7.0,>=4.5 in /opt/conda/lib/python3.12/site-packages (from aiohttp<4.0.0,>=3.8.1->tritonclient[all]) (6.4.4)\n",
      "Requirement already satisfied: yarl<2.0,>=1.0 in /opt/conda/lib/python3.12/site-packages (from aiohttp<4.0.0,>=3.8.1->tritonclient[all]) (1.20.0)\n",
      "Requirement already satisfied: gevent in /opt/conda/lib/python3.12/site-packages (from geventhttpclient>=2.3.3->tritonclient[all]) (25.5.1)\n",
      "Requirement already satisfied: certifi in /opt/conda/lib/python3.12/site-packages (from geventhttpclient>=2.3.3->tritonclient[all]) (2025.4.26)\n",
      "Requirement already satisfied: brotli in /opt/conda/lib/python3.12/site-packages (from geventhttpclient>=2.3.3->tritonclient[all]) (1.1.0)\n",
      "Requirement already satisfied: cuda-bindings~=12.9.0 in /opt/conda/lib/python3.12/site-packages (from cuda-python->tritonclient[all]) (12.9.0)\n",
      "Requirement already satisfied: idna>=2.0 in /opt/conda/lib/python3.12/site-packages (from yarl<2.0,>=1.0->aiohttp<4.0.0,>=3.8.1->tritonclient[all]) (3.10)\n",
      "Requirement already satisfied: propcache>=0.2.1 in /opt/conda/lib/python3.12/site-packages (from yarl<2.0,>=1.0->aiohttp<4.0.0,>=3.8.1->tritonclient[all]) (0.3.1)\n",
      "Requirement already satisfied: greenlet>=3.2.2 in /opt/conda/lib/python3.12/site-packages (from gevent->geventhttpclient>=2.3.3->tritonclient[all]) (3.2.2)\n",
      "Requirement already satisfied: zope.event in /opt/conda/lib/python3.12/site-packages (from gevent->geventhttpclient>=2.3.3->tritonclient[all]) (5.1.1)\n",
      "Requirement already satisfied: zope.interface in /opt/conda/lib/python3.12/site-packages (from gevent->geventhttpclient>=2.3.3->tritonclient[all]) (7.2)\n",
      "Requirement already satisfied: setuptools>=75.8.2 in /opt/conda/lib/python3.12/site-packages (from zope.event->gevent->geventhttpclient>=2.3.3->tritonclient[all]) (80.8.0)\n"
     ]
    }
   ],
   "source": [
    "!pip install 'tritonclient[all]'\n"
   ]
  },
  {
   "cell_type": "code",
   "execution_count": 119,
   "metadata": {},
   "outputs": [],
   "source": [
    "import tritonclient.grpc as triton_grpc\n",
    "import tritonclient.http as httpclient\n",
    "from tritonclient import utils as triton_utils\n"
   ]
  },
  {
   "cell_type": "markdown",
   "metadata": {},
   "source": [
    "##### Replace HOST with the actual URL where your NVIDIA Dynamo-Triton server is hosted.\n"
   ]
  },
  {
   "cell_type": "code",
   "execution_count": 161,
   "metadata": {},
   "outputs": [],
   "source": [
    "HTTP_PORT = 8005\n",
    "GRPC_PORT = 8006\n",
    "METRICS_PORT = 8007\n",
    "HOST = 'k8s-triton-tritonin-f9fd4d14b5-707605711.us-east-1.elb.amazonaws.com'"
   ]
  },
  {
   "cell_type": "markdown",
   "metadata": {},
   "source": [
    "### URLs for GRPC and HTTP request to the inference server"
   ]
  },
  {
   "cell_type": "code",
   "execution_count": 162,
   "metadata": {},
   "outputs": [],
   "source": [
    "client_grpc = triton_grpc.InferenceServerClient(url=f'{HOST}:{GRPC_PORT}')\n",
    "client_http = httpclient.InferenceServerClient(url=f'{HOST}:{HTTP_PORT}')"
   ]
  },
  {
   "cell_type": "markdown",
   "metadata": {},
   "source": [
    "## Prediction without computing Shapley values"
   ]
  },
  {
   "cell_type": "markdown",
   "metadata": {},
   "source": [
    "### Read preprocessed input transactions to send query to NVIDIA Dynamo-Triton"
   ]
  },
  {
   "cell_type": "code",
   "execution_count": 170,
   "metadata": {},
   "outputs": [],
   "source": [
    "import os\n",
    "import pandas as pd\n",
    "import numpy as np\n",
    "\n",
    "model_name = \"prediction_and_shapley\"\n",
    "test_X_path = os.path.join(gnn_data_dir, \"test_gnn\", \"nodes/node.csv\") # already preprocessed data\n",
    "test_X = pd.read_csv(test_X_path)\n",
    "X = test_X.values.astype(np.float32)\n",
    "\n",
    "test_y_path = os.path.join(gnn_data_dir, \"test_gnn\", \"nodes/node_label.csv\") # already preprocessed data\n",
    "test_y = pd.read_csv(test_y_path)\n",
    "y = test_y.values.astype(np.float32)\n",
    "\n",
    "test_ei_path = os.path.join(gnn_data_dir, \"test_gnn\", \"edges/node_to_node.csv\") \n",
    "test_ei = pd.read_csv(test_ei_path)\n"
   ]
  },
  {
   "cell_type": "code",
   "execution_count": 171,
   "metadata": {},
   "outputs": [],
   "source": [
    "edge_index = test_ei.values.T.astype(np.int64)\n",
    "compute_shap = np.array([False], dtype=bool) \n"
   ]
  },
  {
   "cell_type": "markdown",
   "metadata": {},
   "source": [
    "### Evaluate performance for a batch of transactions"
   ]
  },
  {
   "cell_type": "code",
   "execution_count": 172,
   "metadata": {},
   "outputs": [],
   "source": [
    "from sklearn.metrics import (\n",
    "    confusion_matrix,\n",
    "    accuracy_score,\n",
    "    precision_score,\n",
    "    recall_score,\n",
    "    f1_score)\n",
    "import matplotlib.pyplot as plt\n",
    "from sklearn.metrics import ConfusionMatrixDisplay\n"
   ]
  },
  {
   "cell_type": "code",
   "execution_count": 174,
   "metadata": {},
   "outputs": [],
   "source": [
    "# Decision threshold to flag a transaction as fraud\n",
    "#Change to trade-off precision and recall\n",
    "decision_threshold = 0.5"
   ]
  },
  {
   "cell_type": "code",
   "execution_count": 175,
   "metadata": {},
   "outputs": [],
   "source": [
    "\n",
    "def compute_score_for_batch(edge_idx, X, y, batch_size, decision_threshold = 0.5, shap=False, feature_mask=None):\n",
    "    edge_index = edge_idx.T.astype(np.int64)\n",
    "    compute_shap = np.array([shap], dtype=bool) # Skip Shapley value computation\n",
    "    \n",
    "    with httpclient.InferenceServerClient(f\"{HOST}:{HTTP_PORT}\") as client:\n",
    "        input_features = httpclient.InferInput(\"NODE_FEATURES\", X.shape, datatype=\"FP32\")\n",
    "        input_features.set_data_from_numpy(X)\n",
    "\n",
    "        input_edge_indices = httpclient.InferInput(\"EDGE_INDEX\", edge_index.shape, datatype=\"INT64\")\n",
    "        input_edge_indices.set_data_from_numpy(edge_index)\n",
    "\n",
    "        # Even though Shapley values are not requested, it still requires a feature mask.\n",
    "        # It can be a dummy array of int values, but the length must be same as number of features.\n",
    "\n",
    "        if shap:\n",
    "            assert X.shape[1] == len(feature_mask)\n",
    "            feature_mask = np.array(feature_mask).astype(np.int32)\n",
    "        else:\n",
    "            feature_mask = np.zeros(X.shape[1]).astype(np.int32)\n",
    "\n",
    "        input_feature_mask = httpclient.InferInput(\"FEATURE_MASK\", feature_mask.shape, datatype=\"INT32\")\n",
    "        input_feature_mask.set_data_from_numpy(feature_mask)\n",
    "\n",
    "        compute_shap_flag = httpclient.InferInput(\"COMPUTE_SHAP\", compute_shap.shape, datatype=\"BOOL\")\n",
    "        compute_shap_flag.set_data_from_numpy(compute_shap)\n",
    "        \n",
    "        outputs = [\n",
    "            httpclient.InferRequestedOutput(\"PREDICTION\"),\n",
    "            httpclient.InferRequestedOutput(\"SHAP_VALUES\")\n",
    "        ]\n",
    "\n",
    "        # Send query to the server\n",
    "        response = client.infer(\n",
    "            model_name,\n",
    "            inputs=[input_features, input_edge_indices, compute_shap_flag, input_feature_mask],\n",
    "            request_id=str(1),\n",
    "            outputs=outputs,\n",
    "            timeout= 3000\n",
    "            )\n",
    "        \n",
    "    predictions = response.as_numpy('PREDICTION')\n",
    "\n",
    "    assert y.sum() == y[-batch_size:].sum()\n",
    "    if shap == False:\n",
    "        y_pred = (predictions > decision_threshold).astype(int)\n",
    "        \n",
    "        # Compute evaluation metrics\n",
    "        accuracy = accuracy_score(y[-batch_size:], y_pred[-batch_size:])\n",
    "        precision = precision_score(y[-batch_size:], y_pred[-batch_size:], zero_division=0)\n",
    "        recall = recall_score(y[-batch_size:], y_pred[-batch_size:], zero_division=0)\n",
    "        f1 = f1_score(y[-batch_size:], y_pred[-batch_size:], zero_division=0)\n",
    "\n",
    "\n",
    "\n",
    "        classes = ['Non-Fraud', 'Fraud']\n",
    "        columns = pd.MultiIndex.from_product([[\"Predicted\"], classes])\n",
    "        index = pd.MultiIndex.from_product([[\"Actual\"], classes])\n",
    "\n",
    "        conf_mat = confusion_matrix(y[-batch_size:], y_pred[-batch_size:])\n",
    "        cm_df = pd.DataFrame(conf_mat, index=index, columns=columns)\n",
    "        print(cm_df)\n",
    "\n",
    "        # Plot the confusion matrix directly from predictions\n",
    "        disp = ConfusionMatrixDisplay.from_predictions(\n",
    "            y[-batch_size:], y_pred[-batch_size:], display_labels=classes)\n",
    "        disp.ax_.set_title('Confusion Matrix')\n",
    "        plt.show()\n",
    "\n",
    "        print(\"----Summary---\")\n",
    "        print(f\"Accuracy: {accuracy:.4f}\")\n",
    "        print(f\"Precision: {precision:.4f}\")\n",
    "        print(f\"Recall: {recall:.4f}\")\n",
    "        print(f\"F1 Score: {f1:.4f}\")\n",
    "\n",
    "    return predictions, response.as_numpy('SHAP_VALUES') if shap else None\n"
   ]
  },
  {
   "cell_type": "markdown",
   "metadata": {},
   "source": [
    "#### Sample a batch of transactions from the test data"
   ]
  },
  {
   "cell_type": "code",
   "execution_count": 176,
   "metadata": {},
   "outputs": [],
   "source": [
    "# NOTE:\n",
    "# In the preprocessing code, zero-based user node indices come first, \n",
    "# followed by merchant node indices, and then transaction node indices.\n",
    "\n",
    "# Each transaction is represented by four edges,\n",
    "    # user to transaction,\n",
    "    # transaction to merchant,\n",
    "    # transaction to user\n",
    "    # merchant to transaction\n",
    "\n",
    "# Each transaction involves three nodes - an user, a transaction and a merchant\n",
    "\n",
    "\n",
    "NR_TX =  test_ei.shape[0]//4\n",
    "batch_size = NR_TX\n",
    "\n",
    "transaction_batch = np.random.choice(NR_TX, size=batch_size, replace=False)\n",
    "idx_of_edges = transaction_batch.reshape(-1, 1) + np.arange(4)*NR_TX\n",
    "edges_batch = test_ei.iloc[idx_of_edges.ravel()]\n",
    "unique_vertices, renumbered_edges =  np.unique(edges_batch.values, return_inverse=True)\n",
    "eidx = renumbered_edges.reshape(edges_batch.shape)"
   ]
  },
  {
   "cell_type": "code",
   "execution_count": 177,
   "metadata": {},
   "outputs": [
    {
     "data": {
      "text/plain": [
       "(2087.0, 2087.0)"
      ]
     },
     "execution_count": 177,
     "metadata": {},
     "output_type": "execute_result"
    }
   ],
   "source": [
    "assert y[unique_vertices][-batch_size:].sum() == y[unique_vertices].sum()\n",
    "y[unique_vertices][-batch_size:].sum(), y[unique_vertices].sum()"
   ]
  },
  {
   "cell_type": "code",
   "execution_count": 180,
   "metadata": {},
   "outputs": [
    {
     "name": "stdout",
     "output_type": "stream",
     "text": [
      "                 Predicted      \n",
      "                 Non-Fraud Fraud\n",
      "Actual Non-Fraud     23602   114\n",
      "       Fraud            73  2014\n"
     ]
    },
    {
     "data": {
      "image/png": "[encoded data removed]",
      "text/plain": [
       "<Figure size 640x480 with 2 Axes>"
      ]
     },
     "metadata": {},
     "output_type": "display_data"
    },
    {
     "name": "stdout",
     "output_type": "stream",
     "text": [
      "----Summary---\n",
      "Accuracy: 0.9928\n",
      "Precision: 0.9464\n",
      "Recall: 0.9650\n",
      "F1 Score: 0.9556\n"
     ]
    }
   ],
   "source": [
    "predictions, _ = compute_score_for_batch(eidx, X[unique_vertices], y[unique_vertices], batch_size=batch_size)"
   ]
  },
  {
   "cell_type": "markdown",
   "metadata": {},
   "source": [
    "### Compute Shapley values of different features for a transaction\n",
    "NOTE: Shapely computation is very expensive"
   ]
  },
  {
   "cell_type": "code",
   "execution_count": null,
   "metadata": {},
   "outputs": [],
   "source": [
    "NR_TX =  test_ei.shape[0]//4\n",
    "batch_size = 1 \n",
    "\n",
    "transaction_batch = np.random.choice(NR_TX, size=batch_size, replace=False)\n",
    "idx_of_edges = transaction_batch.reshape(-1, 1) + np.arange(4)*NR_TX\n",
    "\n",
    "edges_batch = test_ei.iloc[idx_of_edges.ravel()]\n",
    "unique_vertices, renumbered_edges =  np.unique(edges_batch.values, return_inverse=True)\n",
    "\n",
    "\n",
    "predictions, shap_values = compute_score_for_batch(renumbered_edges.reshape(edges_batch.shape), X[unique_vertices], y[unique_vertices], batch_size=batch_size, shap=True, feature_mask=feature_mask)"
   ]
  },
  {
   "cell_type": "code",
   "execution_count": null,
   "metadata": {},
   "outputs": [],
   "source": [
    "feature_to_attribution_map = dict(zip(feature_mask, shap_values[2]))\n",
    "feature_name_to_id_map = {v:k for k, v in mask_mapping.items()}"
   ]
  },
  {
   "cell_type": "markdown",
   "metadata": {},
   "source": [
    "#### Shapley values for different features"
   ]
  },
  {
   "cell_type": "code",
   "execution_count": null,
   "metadata": {},
   "outputs": [],
   "source": [
    "{feature_name_to_id_map[k]: f\"{v:.3f}\" for k, v in feature_to_attribution_map.items()}"
   ]
  },
  {
   "cell_type": "code",
   "execution_count": null,
   "metadata": {},
   "outputs": [],
   "source": []
  }
 ],
 "metadata": {
  "kernelspec": {
   "display_name": "user-env:(notebook_env)",
   "language": "python",
   "name": "notebook_env"
  },
  "language_info": {
   "codemirror_mode": {
    "name": "ipython",
    "version": 3
   },
   "file_extension": ".py",
   "mimetype": "text/x-python",
   "name": "python",
   "nbconvert_exporter": "python",
   "pygments_lexer": "ipython3",
   "version": "3.12.10"
  }
 },
 "nbformat": 4,
 "nbformat_minor": 4
}
