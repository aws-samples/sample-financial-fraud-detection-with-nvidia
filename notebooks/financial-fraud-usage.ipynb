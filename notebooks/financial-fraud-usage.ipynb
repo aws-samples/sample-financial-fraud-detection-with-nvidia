{
 "cells": [
  {
   "cell_type": "markdown",
   "metadata": {},
   "source": [
    "# Financial Fraud Detection"
   ]
  },
  {
   "cell_type": "markdown",
   "metadata": {},
   "source": [
    "- The objective of this notebook is to showcase the usage of the [___financial-fraud-training___ container](https://catalog.ngc.nvidia.com/orgs/nvidia/teams/cugraph/containers/financial-fraud-training) and how to deploy the produced trained models on [NVIDIA Dynamo-Triton](https://catalog.ngc.nvidia.com/orgs/nvidia/containers/tritonserver).\n",
    "- We use [IBM TabFormer](https://github.com/IBM/TabFormer) as an example dataset and the dataset is preprocess before model training\n",
    "\n",
    "NOTE:\n",
    "* The preprocessing code is written specifically for the TabFormer dataset and will not work with other datasets.\n",
    "* Additionally, a familiarity with [Jupyter](https://docs.jupyter.org/en/latest/what_is_jupyter.html) is assumed."
   ]
  },
  {
   "cell_type": "markdown",
   "metadata": {},
   "source": [
    "# Environment Setup\n",
    "This Notebook is designed to work in Sageamaker Studio's Jupyter Lab environment\n",
    "\n",
    "Please create a Conda environment and add that to the notebook - See the [README](../README.md) file"
   ]
  },
  {
   "cell_type": "markdown",
   "metadata": {},
   "source": [
    "-----\n",
    "## Import libraries (both environments)"
   ]
  },
  {
   "cell_type": "code",
   "execution_count": 1,
   "metadata": {
    "execution": {
     "iopub.execute_input": "2025-09-30T16:43:12.047238Z",
     "iopub.status.busy": "2025-09-30T16:43:12.046991Z",
     "iopub.status.idle": "2025-09-30T16:43:12.121816Z",
     "shell.execute_reply": "2025-09-30T16:43:12.121332Z",
     "shell.execute_reply.started": "2025-09-30T16:43:12.047218Z"
    }
   },
   "outputs": [],
   "source": [
    "import os\n",
    "import sys\n",
    "import json\n",
    "import time\n",
    "import boto3"
   ]
  },
  {
   "cell_type": "markdown",
   "metadata": {},
   "source": [
    "## Prepare the AWS Environment variables from the infrastructure stack"
   ]
  },
  {
   "cell_type": "code",
   "execution_count": 2,
   "metadata": {
    "execution": {
     "iopub.execute_input": "2025-09-30T16:43:13.765807Z",
     "iopub.status.busy": "2025-09-30T16:43:13.765563Z",
     "iopub.status.idle": "2025-09-30T16:43:13.771022Z",
     "shell.execute_reply": "2025-09-30T16:43:13.770548Z",
     "shell.execute_reply.started": "2025-09-30T16:43:13.765787Z"
    }
   },
   "outputs": [],
   "source": [
    "def get_cfn_output(stack_name, output_key):\n",
    "    try:\n",
    "        response = cfn_client.describe_stacks(StackName=stack_name)\n",
    "        outputs = response['Stacks'][0]['Outputs']\n",
    "        for output in outputs:\n",
    "            if output['OutputKey'] == output_key:\n",
    "                return output['OutputValue']\n",
    "        return None\n",
    "    except Exception as e:\n",
    "        if 'AccessDenied' in str(e) or 'UnauthorizedOperation' in str(e):\n",
    "            print(f\"Permission Error: You don't have permission to access CloudFormation stack '{stack_name}'.\")\n",
    "            print(\"   Please ensure the Sagemaker execution role has the 'cloudformation:DescribeStacks' permission.\")\n",
    "        else:\n",
    "            print(f\"Error accessing CloudFormation stack '{stack_name}': {str(e)}\")\n",
    "            print(\"   Please check that the stack exists and you have the permissions to read from it configured.\")\n",
    "        return None\n",
    "\n",
    "def get_inference_host():\n",
    "    try:\n",
    "        response = elb_client.describe_load_balancers()[\"LoadBalancers\"]\n",
    "        \n",
    "        for elb in response:\n",
    "            if elb['LoadBalancerName'].startswith('k8s-triton'):\n",
    "                return elb['DNSName']\n",
    "        return None\n",
    "    except Exception as e:\n",
    "        if 'AccessDenied' in str(e) or 'UnauthorizedOperation' in str(e):\n",
    "            print(f\"Permission Error: You don't have permission to access Elastic Load Balancers.\")\n",
    "            print(\"   Please ensure the Sagemaker execution role has the 'elasticloadbalancing:DescribeLoadBalancers' permission.\")\n",
    "        else:\n",
    "            print(f\"Error accessing load balancers: {str(e)}\")\n",
    "            print(\"   Please check your AWS credentials and network connectivity.\")\n",
    "        return None"
   ]
  },
  {
   "cell_type": "code",
   "execution_count": 3,
   "metadata": {
    "execution": {
     "iopub.execute_input": "2025-09-30T16:43:14.076267Z",
     "iopub.status.busy": "2025-09-30T16:43:14.075906Z",
     "iopub.status.idle": "2025-09-30T16:43:14.462740Z",
     "shell.execute_reply": "2025-09-30T16:43:14.462239Z",
     "shell.execute_reply.started": "2025-09-30T16:43:14.076234Z"
    }
   },
   "outputs": [
    {
     "name": "stdout",
     "output_type": "stream",
     "text": [
      "Bucket Name: ml-on-containers-771830474512\n",
      "Training Role: arn:aws:iam::771830474512:role/AmazonSageMaker-ExecutionRole-CDK\n",
      "Training Repo: nvidia-training-repo\n",
      "Inference Host: k8s-triton-tritonse-3c19d68b79-1481497879.us-east-1.elb.amazonaws.com\n"
     ]
    }
   ],
   "source": [
    "ssm_client = boto3.client('ssm')\n",
    "cfn_client = boto3.client('cloudformation')\n",
    "elb_client = boto3.client('elbv2', region_name=\"us-east-1\")\n",
    "\n",
    "bucket_name = get_cfn_output(\"NvidiaFraudDetectionBlueprintModelExtractor\", \"SourceBucketName\")\n",
    "\n",
    "sagemaker_training_role = get_cfn_output(\"NvidiaFraudDetectionTrainingRole\", \"SageMakerRoleArn\")\n",
    "\n",
    "training_repo = get_cfn_output(\"NvidiaFraudDetectionTrainingImageRepo\", \"TrainingImageRepo\")\n",
    "\n",
    "inference_host = get_inference_host()\n",
    "\n",
    "print(f\"Bucket Name: {bucket_name}\")\n",
    "print(f\"Training Role: {sagemaker_training_role}\")\n",
    "print(f\"Training Repo: {training_repo}\")\n",
    "print(f\"Inference Host: {inference_host}\")"
   ]
  },
  {
   "cell_type": "markdown",
   "metadata": {},
   "source": [
    "----\n",
    "# Step 1: Get and Prepare the data"
   ]
  },
  {
   "cell_type": "markdown",
   "metadata": {},
   "source": [
    "## For Local\n",
    "1. Download the dataset: https://ibm.ent.box.com/v/tabformer-data/folder/130747715605\n",
    "2. untar and uncompreess the file: `tar -xvzf ./transactions.tgz`\n",
    "3. Put card_transaction.v1.csv in in the `data/TabFormer/raw` folder\n"
   ]
  },
  {
   "cell_type": "code",
   "execution_count": 4,
   "metadata": {
    "execution": {
     "iopub.execute_input": "2025-09-30T16:43:16.501415Z",
     "iopub.status.busy": "2025-09-30T16:43:16.501160Z",
     "iopub.status.idle": "2025-09-30T16:43:16.653917Z",
     "shell.execute_reply": "2025-09-30T16:43:16.653303Z",
     "shell.execute_reply.started": "2025-09-30T16:43:16.501396Z"
    }
   },
   "outputs": [
    {
     "name": "stdout",
     "output_type": "stream",
     "text": [
      "total 2.2G\n",
      "-rw-r--r-- 1 sagemaker-user users 2.2G Oct 28  2020 card_transaction.v1.csv\n",
      "-rw-r--r-- 1 sagemaker-user users  112 Sep 26 16:24 readme.md\n"
     ]
    }
   ],
   "source": [
    "# verify that the compressed file was uploaded successfully - the size should be 266M\n",
    "!ls -lh ../data/TabFormer/raw"
   ]
  },
  {
   "cell_type": "code",
   "execution_count": 5,
   "metadata": {
    "execution": {
     "iopub.execute_input": "2025-09-30T16:43:16.655349Z",
     "iopub.status.busy": "2025-09-30T16:43:16.654983Z",
     "iopub.status.idle": "2025-09-30T16:43:16.805423Z",
     "shell.execute_reply": "2025-09-30T16:43:16.804847Z",
     "shell.execute_reply.started": "2025-09-30T16:43:16.655317Z"
    }
   },
   "outputs": [
    {
     "name": "stdout",
     "output_type": "stream",
     "text": [
      "tar (child): ../data/TabFormer/raw/transactions.tgz: Cannot open: No such file or directory\n",
      "tar (child): Error is not recoverable: exiting now\n",
      "tar: Child returned status 2\n",
      "tar: Error is not recoverable: exiting now\n"
     ]
    }
   ],
   "source": [
    "# Uncompress/untar the file\n",
    "!tar xvzf ../data/TabFormer/raw/transactions.tgz -C ../data/TabFormer/raw/"
   ]
  },
  {
   "cell_type": "markdown",
   "metadata": {},
   "source": [
    "__If__ drag-and-drop is not working, please run the [Download TabFormer](./extra/download-tabformer.ipynb) notebook is the \"extra\" folder "
   ]
  },
  {
   "cell_type": "markdown",
   "metadata": {},
   "source": [
    "## Check data folder structure\n",
    "The goal is to produce the following structure\n",
    "\n",
    "```\n",
    ".\n",
    "    data\n",
    "    └── TabFormer\n",
    "        └── raw\n",
    "            └── card_transaction.v1.csv\n",
    "```"
   ]
  },
  {
   "cell_type": "code",
   "execution_count": 6,
   "metadata": {
    "execution": {
     "iopub.execute_input": "2025-09-30T16:43:17.785537Z",
     "iopub.status.busy": "2025-09-30T16:43:17.785265Z",
     "iopub.status.idle": "2025-09-30T16:43:17.789118Z",
     "shell.execute_reply": "2025-09-30T16:43:17.788616Z",
     "shell.execute_reply.started": "2025-09-30T16:43:17.785512Z"
    }
   },
   "outputs": [],
   "source": [
    "# Once the raw data is placed as described above, set the path to the TabFormer directory\n",
    "\n",
    "# Change this path to point to TabFormer data\n",
    "data_root_dir = os.path.abspath('../data/TabFormer/') \n",
    "\n",
    "# Change this path to the directory where you want to save your model\n",
    "model_output_dir = os.path.join(data_root_dir, 'trained_models')\n",
    "\n",
    "# Path to save the trained model\n",
    "os.makedirs(model_output_dir, exist_ok=True)"
   ]
  },
  {
   "cell_type": "markdown",
   "metadata": {},
   "source": [
    "### Define python function to print directory tree"
   ]
  },
  {
   "cell_type": "code",
   "execution_count": 7,
   "metadata": {
    "execution": {
     "iopub.execute_input": "2025-09-30T16:43:19.017815Z",
     "iopub.status.busy": "2025-09-30T16:43:19.017563Z",
     "iopub.status.idle": "2025-09-30T16:43:19.021834Z",
     "shell.execute_reply": "2025-09-30T16:43:19.021301Z",
     "shell.execute_reply.started": "2025-09-30T16:43:19.017795Z"
    }
   },
   "outputs": [],
   "source": [
    "def print_tree(directory, prefix=\"\"):\n",
    "    \"\"\"Recursively prints the directory tree starting at 'directory'.\"\"\"\n",
    "    # Retrieve a sorted list of entries in the directory\n",
    "    entries = sorted(os.listdir(directory))\n",
    "    entries_count = len(entries)\n",
    "    \n",
    "    for index, entry in enumerate(entries):\n",
    "        path = os.path.join(directory, entry)\n",
    "        # Determine the branch connector\n",
    "        if index == entries_count - 1:\n",
    "            connector = \"└── \"\n",
    "            extension = \"    \"\n",
    "        else:\n",
    "            connector = \"├── \"\n",
    "            extension = \"│   \"\n",
    "        \n",
    "        print(prefix + connector + entry)\n",
    "        \n",
    "        # If the entry is a directory, recursively print its contents\n",
    "        if os.path.isdir(path):\n",
    "            print_tree(path, prefix + extension)"
   ]
  },
  {
   "cell_type": "code",
   "execution_count": 8,
   "metadata": {
    "execution": {
     "iopub.execute_input": "2025-09-30T16:43:19.690449Z",
     "iopub.status.busy": "2025-09-30T16:43:19.690205Z",
     "iopub.status.idle": "2025-09-30T16:43:19.694652Z",
     "shell.execute_reply": "2025-09-30T16:43:19.694172Z",
     "shell.execute_reply.started": "2025-09-30T16:43:19.690430Z"
    }
   },
   "outputs": [
    {
     "name": "stdout",
     "output_type": "stream",
     "text": [
      "├── gnn\n",
      "│   ├── edges\n",
      "│   │   ├── node_to_node.csv\n",
      "│   │   ├── user_to_merchant.csv\n",
      "│   │   ├── user_to_merchant_attr.csv\n",
      "│   │   └── user_to_merchant_label.csv\n",
      "│   ├── nodes\n",
      "│   │   ├── merchant.csv\n",
      "│   │   ├── node.csv\n",
      "│   │   ├── node_label.csv\n",
      "│   │   ├── offset_range_of_training_node.json\n",
      "│   │   └── user.csv\n",
      "│   └── test_gnn\n",
      "│       ├── edges\n",
      "│       │   ├── node_to_node.csv\n",
      "│       │   ├── user_to_merchant.csv\n",
      "│       │   ├── user_to_merchant_attr.csv\n",
      "│       │   ├── user_to_merchant_feature_mask.csv\n",
      "│       │   └── user_to_merchant_label.csv\n",
      "│       └── nodes\n",
      "│           ├── merchant.csv\n",
      "│           ├── merchant_feature_mask.csv\n",
      "│           ├── node.csv\n",
      "│           ├── node_label.csv\n",
      "│           ├── user.csv\n",
      "│           └── user_feature_mask.csv\n",
      "├── raw\n",
      "│   ├── card_transaction.v1.csv\n",
      "│   └── readme.md\n",
      "├── trained_models\n",
      "└── xgb\n",
      "    ├── test.csv\n",
      "    ├── training.csv\n",
      "    └── validation.csv\n"
     ]
    }
   ],
   "source": [
    "# Check if the raw data has been placed properly\n",
    "print_tree(data_root_dir)"
   ]
  },
  {
   "cell_type": "markdown",
   "metadata": {},
   "source": [
    "---\n",
    "# Step 2: Preprocess the data \n",
    "- Import the Python function for preprocessing the TabFormer data\n",
    "- Call `preprocess_TabFormer` function to prepare the data\n",
    "\n",
    "NOTE: The preprocessing can takes a few minutes\n"
   ]
  },
  {
   "cell_type": "code",
   "execution_count": 9,
   "metadata": {
    "execution": {
     "iopub.execute_input": "2025-09-30T16:43:21.431333Z",
     "iopub.status.busy": "2025-09-30T16:43:21.431037Z",
     "iopub.status.idle": "2025-09-30T16:43:23.321826Z",
     "shell.execute_reply": "2025-09-30T16:43:23.321227Z",
     "shell.execute_reply.started": "2025-09-30T16:43:21.431311Z"
    }
   },
   "outputs": [],
   "source": [
    "# Add the \"src\" directory to the search path\n",
    "src_dir = os.path.abspath(os.path.join(os.path.dirname(os.getcwd()), 'src'))\n",
    "sys.path.insert(0, src_dir)\n",
    "\n",
    "# should be able to import from \"src\" folder now\n",
    "from preprocess_TabFormer import preprocess_data"
   ]
  },
  {
   "cell_type": "code",
   "execution_count": 51,
   "metadata": {
    "execution": {
     "iopub.execute_input": "2025-09-30T21:44:26.107695Z",
     "iopub.status.busy": "2025-09-30T21:44:26.107440Z",
     "iopub.status.idle": "2025-09-30T21:46:25.383100Z",
     "shell.execute_reply": "2025-09-30T21:46:25.382539Z",
     "shell.execute_reply.started": "2025-09-30T21:44:26.107676Z"
    }
   },
   "outputs": [
    {
     "name": "stdout",
     "output_type": "stream",
     "text": [
      "Correlation (Card, Fraud) =   6.59%\n",
      "Correlation (Chip, Fraud) =   5.63%\n",
      "Correlation (Errors, Fraud) =   1.81%\n",
      "Correlation (State, Fraud) =  35.92%\n",
      "Correlation (City, Fraud) =  32.47%\n",
      "Correlation (Zip, Fraud) =  14.99%\n",
      "Correlation (MCC, Fraud) =  12.70%\n",
      "Correlation (Merchant, Fraud) =  34.88%\n",
      "Correlation (User, Fraud) =   3.40%\n",
      "Correlation (Day, Fraud) =   0.26%\n",
      "Correlation (Month, Fraud) =   0.23%\n",
      "Correlation (Year, Fraud) =   2.35%\n",
      "r_pb (Time) = -0.00 with p_value 0.00\n",
      "r_pb (Amount) = 0.03 with p_value 0.00\n",
      "Transaction ID range (0, 301523)\n",
      "Merchant ID range (0, 42941)\n",
      "User ID range (0, 4872)\n",
      "Transaction ID range (0, 25802)\n",
      "Merchant ID range (0, 6772)\n",
      "User ID range (0, 4794)\n"
     ]
    }
   ],
   "source": [
    "# Preprocess the data\n",
    "mask_mapping, feature_mask = preprocess_data(data_root_dir)\n",
    "\n",
    "# this will output status as it correlates different attributes with target column"
   ]
  },
  {
   "cell_type": "code",
   "execution_count": 10,
   "metadata": {
    "execution": {
     "iopub.execute_input": "2025-09-29T17:32:20.150736Z",
     "iopub.status.busy": "2025-09-29T17:32:20.150327Z",
     "iopub.status.idle": "2025-09-29T17:32:20.154564Z",
     "shell.execute_reply": "2025-09-29T17:32:20.154023Z",
     "shell.execute_reply.started": "2025-09-29T17:32:20.150716Z"
    }
   },
   "outputs": [
    {
     "name": "stdout",
     "output_type": "stream",
     "text": [
      "├── gnn\n",
      "│   ├── edges\n",
      "│   │   ├── node_to_node.csv\n",
      "│   │   ├── user_to_merchant.csv\n",
      "│   │   ├── user_to_merchant_attr.csv\n",
      "│   │   └── user_to_merchant_label.csv\n",
      "│   ├── nodes\n",
      "│   │   ├── merchant.csv\n",
      "│   │   ├── node.csv\n",
      "│   │   ├── node_label.csv\n",
      "│   │   ├── offset_range_of_training_node.json\n",
      "│   │   └── user.csv\n",
      "│   └── test_gnn\n",
      "│       ├── edges\n",
      "│       │   ├── node_to_node.csv\n",
      "│       │   ├── user_to_merchant.csv\n",
      "│       │   ├── user_to_merchant_attr.csv\n",
      "│       │   ├── user_to_merchant_feature_mask.csv\n",
      "│       │   └── user_to_merchant_label.csv\n",
      "│       └── nodes\n",
      "│           ├── merchant.csv\n",
      "│           ├── merchant_feature_mask.csv\n",
      "│           ├── node.csv\n",
      "│           ├── node_label.csv\n",
      "│           ├── user.csv\n",
      "│           └── user_feature_mask.csv\n",
      "├── raw\n",
      "│   ├── card_transaction.v1.csv\n",
      "│   └── readme.md\n",
      "├── trained_models\n",
      "└── xgb\n",
      "    ├── test.csv\n",
      "    ├── training.csv\n",
      "    └── validation.csv\n"
     ]
    }
   ],
   "source": [
    "# You should not see files under a \"gnn\" folder and under a \"xgb\" folder\n",
    "print_tree(data_root_dir)"
   ]
  },
  {
   "cell_type": "code",
   "execution_count": null,
   "metadata": {
    "execution": {
     "iopub.execute_input": "2025-09-29T15:08:57.810805Z",
     "iopub.status.busy": "2025-09-29T15:08:57.810530Z",
     "iopub.status.idle": "2025-09-29T15:09:00.995288Z",
     "shell.execute_reply": "2025-09-29T15:09:00.994575Z",
     "shell.execute_reply.started": "2025-09-29T15:08:57.810782Z"
    }
   },
   "outputs": [
    {
     "name": "stdout",
     "output_type": "stream",
     "text": [
      "upload: ../data/TabFormer/gnn/edges/user_to_merchant_label.csv to s3://ml-on-containers-771830474512/data/gnn/edges/user_to_merchant_label.csv\n",
      "upload: ../data/TabFormer/gnn/edges/user_to_merchant.csv to s3://ml-on-containers-771830474512/data/gnn/edges/user_to_merchant.csv\n",
      "upload: ../data/TabFormer/gnn/nodes/merchant.csv to s3://ml-on-containers-771830474512/data/gnn/nodes/merchant.csv\n",
      "upload: ../data/TabFormer/gnn/edges/node_to_node.csv to s3://ml-on-containers-771830474512/data/gnn/edges/node_to_node.csv\n",
      "upload: ../data/TabFormer/gnn/nodes/offset_range_of_training_node.json to s3://ml-on-containers-771830474512/data/gnn/nodes/offset_range_of_training_node.json\n",
      "upload: ../data/TabFormer/gnn/nodes/user.csv to s3://ml-on-containers-771830474512/data/gnn/nodes/user.csv\n",
      "upload: ../data/TabFormer/gnn/test_gnn/edges/node_to_node.csv to s3://ml-on-containers-771830474512/data/gnn/test_gnn/edges/node_to_node.csv\n",
      "upload: ../data/TabFormer/gnn/test_gnn/edges/user_to_merchant.csv to s3://ml-on-containers-771830474512/data/gnn/test_gnn/edges/user_to_merchant.csv\n",
      "upload: ../data/TabFormer/gnn/test_gnn/edges/user_to_merchant_feature_mask.csv to s3://ml-on-containers-771830474512/data/gnn/test_gnn/edges/user_to_merchant_feature_mask.csv\n",
      "upload: ../data/TabFormer/gnn/test_gnn/nodes/merchant.csv to s3://ml-on-containers-771830474512/data/gnn/test_gnn/nodes/merchant.csv\n",
      "upload: ../data/TabFormer/gnn/test_gnn/nodes/merchant_feature_mask.csv to s3://ml-on-containers-771830474512/data/gnn/test_gnn/nodes/merchant_feature_mask.csv\n",
      "upload: ../data/TabFormer/gnn/test_gnn/edges/user_to_merchant_label.csv to s3://ml-on-containers-771830474512/data/gnn/test_gnn/edges/user_to_merchant_label.csv\n",
      "upload: ../data/TabFormer/gnn/nodes/node_label.csv to s3://ml-on-containers-771830474512/data/gnn/nodes/node_label.csv\n",
      "upload: ../data/TabFormer/gnn/test_gnn/edges/user_to_merchant_attr.csv to s3://ml-on-containers-771830474512/data/gnn/test_gnn/edges/user_to_merchant_attr.csv\n",
      "upload: ../data/TabFormer/gnn/test_gnn/nodes/user_feature_mask.csv to s3://ml-on-containers-771830474512/data/gnn/test_gnn/nodes/user_feature_mask.csv\n",
      "upload: ../data/TabFormer/gnn/test_gnn/nodes/user.csv to s3://ml-on-containers-771830474512/data/gnn/test_gnn/nodes/user.csv\n",
      "upload: ../data/TabFormer/gnn/test_gnn/nodes/node_label.csv to s3://ml-on-containers-771830474512/data/gnn/test_gnn/nodes/node_label.csv\n",
      "upload: ../data/TabFormer/xgb/test.csv to s3://ml-on-containers-771830474512/data/xgb/test.csv\n",
      "upload: ../data/TabFormer/gnn/edges/user_to_merchant_attr.csv to s3://ml-on-containers-771830474512/data/gnn/edges/user_to_merchant_attr.csv\n",
      "upload: ../data/TabFormer/gnn/test_gnn/nodes/node.csv to s3://ml-on-containers-771830474512/data/gnn/test_gnn/nodes/node.csv\n",
      "upload: ../data/TabFormer/xgb/validation.csv to s3://ml-on-containers-771830474512/data/xgb/validation.csv\n",
      "upload: ../data/TabFormer/xgb/training.csv to s3://ml-on-containers-771830474512/data/xgb/training.csv\n",
      "upload: ../data/TabFormer/gnn/nodes/node.csv to s3://ml-on-containers-771830474512/data/gnn/nodes/node.csv\n"
     ]
    }
   ],
   "source": [
    "# copy data to S3 to get pulled during training\n",
    "! aws s3 sync \"../data/TabFormer/\" s3://ml-on-containers/data/ --exclude \"*/test_gnn\" --force --delete"
   ]
  },
  {
   "cell_type": "markdown",
   "metadata": {},
   "source": [
    "-----\n",
    "# Step 3:  Now train the model using the financial-fraud-training container\n"
   ]
  },
  {
   "cell_type": "markdown",
   "metadata": {},
   "source": [
    "## Create training configuration file\n",
    "NOTE: Training configuration file must conform to schema defined [here](https://docs.nvidia.com/nim/financial-fraud-training/latest/configuration/config-json.html)"
   ]
  },
  {
   "cell_type": "markdown",
   "metadata": {},
   "source": [
    "#### Sagemaker training imports data from S3"
   ]
  },
  {
   "cell_type": "code",
   "execution_count": 10,
   "metadata": {
    "execution": {
     "iopub.execute_input": "2025-09-30T16:43:27.104958Z",
     "iopub.status.busy": "2025-09-30T16:43:27.104532Z",
     "iopub.status.idle": "2025-09-30T16:43:27.108498Z",
     "shell.execute_reply": "2025-09-30T16:43:27.107926Z",
     "shell.execute_reply.started": "2025-09-30T16:43:27.104936Z"
    }
   },
   "outputs": [],
   "source": [
    "sagamaker_config = {\n",
    "    \"paths\": {\n",
    "        \"data_dir\": \"/opt/ml/input/data/data\",\n",
    "        \"output_dir\": \"/opt/ml/model\"\n",
    "    },\n",
    "    \"models\": [\n",
    "    {\n",
    "      \"kind\": \"GraphSAGE_XGBoost\",\n",
    "      \"gpu\": \"single\",\n",
    "      \"hyperparameters\": {\n",
    "        \"gnn\":{\n",
    "          \"hidden_channels\": 16,\n",
    "          \"n_hops\": 1,\n",
    "          \"dropout_prob\": 0.1,\n",
    "          \"batch_size\": 1024,\n",
    "          \"fan_out\": 16,\n",
    "          \"num_epochs\": 16\n",
    "        },\n",
    "        \"xgb\": {\n",
    "          \"max_depth\": 6,\n",
    "          \"learning_rate\": 0.2,\n",
    "          \"num_parallel_tree\": 3,\n",
    "          \"num_boost_round\": 512,\n",
    "          \"gamma\": 0.0\n",
    "        }\n",
    "\n",
    "      }\n",
    "    }\n",
    "  ]\n",
    "}"
   ]
  },
  {
   "cell_type": "markdown",
   "metadata": {},
   "source": [
    "#### Save the training configuration as a json file"
   ]
  },
  {
   "cell_type": "code",
   "execution_count": 11,
   "metadata": {
    "execution": {
     "iopub.execute_input": "2025-09-30T16:43:28.238662Z",
     "iopub.status.busy": "2025-09-30T16:43:28.238399Z",
     "iopub.status.idle": "2025-09-30T16:43:29.179095Z",
     "shell.execute_reply": "2025-09-30T16:43:29.178353Z",
     "shell.execute_reply.started": "2025-09-30T16:43:28.238642Z"
    }
   },
   "outputs": [
    {
     "name": "stdout",
     "output_type": "stream",
     "text": [
      "upload: ./sagemaker_config.json to s3://ml-on-containers-771830474512/config/training_config.json\n"
     ]
    }
   ],
   "source": [
    "training_config_file_name = 'sagemaker_config.json'\n",
    "\n",
    "with open(os.path.join(training_config_file_name), 'w') as json_file:\n",
    "    json.dump(sagamaker_config, json_file, indent=4)\n",
    "\n",
    "# clone config to S3\n",
    "! aws s3 cp ./sagemaker_config.json s3://$bucket_name/config/training_config.json"
   ]
  },
  {
   "cell_type": "code",
   "execution_count": 16,
   "metadata": {
    "execution": {
     "iopub.execute_input": "2025-09-29T15:09:05.114524Z",
     "iopub.status.busy": "2025-09-29T15:09:05.114290Z",
     "iopub.status.idle": "2025-09-29T15:09:05.117326Z",
     "shell.execute_reply": "2025-09-29T15:09:05.116877Z",
     "shell.execute_reply.started": "2025-09-29T15:09:05.114502Z"
    }
   },
   "outputs": [],
   "source": [
    "# TODO: Explain the Sageamker create training job API call here"
   ]
  },
  {
   "cell_type": "code",
   "execution_count": 36,
   "metadata": {
    "execution": {
     "iopub.execute_input": "2025-09-29T16:13:30.490892Z",
     "iopub.status.busy": "2025-09-29T16:13:30.490630Z",
     "iopub.status.idle": "2025-09-29T16:13:31.021548Z",
     "shell.execute_reply": "2025-09-29T16:13:31.021009Z",
     "shell.execute_reply.started": "2025-09-29T16:13:30.490873Z"
    }
   },
   "outputs": [],
   "source": [
    "# run the training in Sagemaker\n",
    "# define training job\n",
    "training_job_name = \"fraud-detection-v1\" + str(int(time.time()))\n",
    "\n",
    "# send training job to parameter store\n",
    "ssm_client = boto3.client(\"ssm\")\n",
    "\n",
    "ssm_client.put_parameter(Name=\"/triton/model\", Value=training_job_name, Overwrite=True)\n",
    "\n",
    "sagemaker_client = boto3.client('sagemaker')\n",
    "\n",
    "response = sagemaker_client.create_training_job(\n",
    "    TrainingJobName=training_job_name,\n",
    "    RoleArn=sagemaker_training_role,\n",
    "    AlgorithmSpecification={\n",
    "        'TrainingImage': \"771830474512.dkr.ecr.us-east-1.amazonaws.com/ml/ml-on-gpu:latest\",\n",
    "        'TrainingInputMode': 'File',\n",
    "        'ContainerEntrypoint': [\n",
    "            'python',\n",
    "            'main.py',\n",
    "            '--config',\n",
    "            \"/opt/ml/input/data/config/training_config.json\"\n",
    "        ]\n",
    "    },\n",
    "    InputDataConfig=[\n",
    "        {\n",
    "            'ChannelName': 'data',\n",
    "            'DataSource': {\n",
    "                'S3DataSource': {\n",
    "                    'S3DataType': 'S3Prefix',\n",
    "                    'S3Uri': f's3://ml-on-containers/data/gnn/',\n",
    "                    'S3DataDistributionType': 'FullyReplicated'\n",
    "                }\n",
    "            },\n",
    "            'ContentType': 'application/x-directory',\n",
    "            'InputMode': 'File',\n",
    "            'CompressionType': 'None'\n",
    "        },\n",
    "        {\n",
    "            'ChannelName': 'config',\n",
    "            'DataSource': {\n",
    "                'S3DataSource': {\n",
    "                    'S3DataType': 'S3Prefix',\n",
    "                    'S3Uri': f's3://ml-on-containers/config/',\n",
    "                    'S3DataDistributionType': 'FullyReplicated',\n",
    "                }\n",
    "            },\n",
    "            'ContentType': 'application/x-directory',\n",
    "            'InputMode': 'File',\n",
    "            'CompressionType': 'None'\n",
    "        }\n",
    "    ],\n",
    "    OutputDataConfig={\n",
    "        'S3OutputPath': f's3://{bucket_name}/output/'\n",
    "    },\n",
    "    ResourceConfig={\n",
    "        'InstanceType': 'ml.g4dn.2xlarge',\n",
    "        'InstanceCount': 1,\n",
    "        'VolumeSizeInGB': 30\n",
    "    },\n",
    "    StoppingCondition={\n",
    "        'MaxRuntimeInSeconds': 86400\n",
    "    }\n",
    ")"
   ]
  },
  {
   "cell_type": "code",
   "execution_count": 12,
   "metadata": {
    "execution": {
     "iopub.execute_input": "2025-09-30T16:43:32.940839Z",
     "iopub.status.busy": "2025-09-30T16:43:32.940547Z",
     "iopub.status.idle": "2025-09-30T16:43:32.945098Z",
     "shell.execute_reply": "2025-09-30T16:43:32.944539Z",
     "shell.execute_reply.started": "2025-09-30T16:43:32.940814Z"
    }
   },
   "outputs": [],
   "source": [
    "from IPython.display import clear_output\n",
    "def poll_training_status(job_name):\n",
    "    sagemaker_client = boto3.client('sagemaker')\n",
    "    \n",
    "    while True:\n",
    "        response = sagemaker_client.describe_training_job(TrainingJobName=job_name)\n",
    "        status = response['TrainingJobStatus']\n",
    "        \n",
    "        # Clear previous output\n",
    "        clear_output(wait=True)\n",
    "        \n",
    "        # Print current status with timestamp\n",
    "        print(f\"Job: {job_name}\")\n",
    "        print(f\"Status: {status}\")\n",
    "        print(f\"Last checked: {time.strftime('%Y-%m-%d %H:%M:%S')}\")\n",
    "        \n",
    "        if status in ['Completed', 'Failed', 'Stopped']:\n",
    "            break\n",
    "            \n",
    "        # Wait before next check\n",
    "        time.sleep(30)\n",
    "    \n",
    "    return status"
   ]
  },
  {
   "cell_type": "code",
   "execution_count": 13,
   "metadata": {
    "execution": {
     "iopub.execute_input": "2025-09-30T16:43:33.507306Z",
     "iopub.status.busy": "2025-09-30T16:43:33.507025Z",
     "iopub.status.idle": "2025-09-30T16:43:33.953322Z",
     "shell.execute_reply": "2025-09-30T16:43:33.952587Z",
     "shell.execute_reply.started": "2025-09-30T16:43:33.507285Z"
    }
   },
   "outputs": [
    {
     "ename": "NameError",
     "evalue": "name 'training_job_name' is not defined",
     "output_type": "error",
     "traceback": [
      "\u001b[31m---------------------------------------------------------------------------\u001b[39m",
      "\u001b[31mNameError\u001b[39m                                 Traceback (most recent call last)",
      "\u001b[36mCell\u001b[39m\u001b[36m \u001b[39m\u001b[32mIn[13]\u001b[39m\u001b[32m, line 1\u001b[39m\n\u001b[32m----> \u001b[39m\u001b[32m1\u001b[39m final_status = poll_training_status(\u001b[43mtraining_job_name\u001b[49m)\n",
      "\u001b[31mNameError\u001b[39m: name 'training_job_name' is not defined"
     ]
    }
   ],
   "source": [
    "final_status = poll_training_status(training_job_name)"
   ]
  },
  {
   "cell_type": "code",
   "execution_count": 14,
   "metadata": {
    "execution": {
     "iopub.execute_input": "2025-09-30T16:43:35.375949Z",
     "iopub.status.busy": "2025-09-30T16:43:35.375680Z",
     "iopub.status.idle": "2025-09-30T16:43:35.378707Z",
     "shell.execute_reply": "2025-09-30T16:43:35.378166Z",
     "shell.execute_reply.started": "2025-09-30T16:43:35.375928Z"
    }
   },
   "outputs": [],
   "source": [
    "gnn_data_dir = os.path.join(data_root_dir, \"gnn\")"
   ]
  },
  {
   "cell_type": "markdown",
   "metadata": {},
   "source": [
    "---"
   ]
  },
  {
   "cell_type": "markdown",
   "metadata": {},
   "source": [
    "# Step 3: Launch the model in EKS\n",
    "\n",
    "This is automatically done by our combination of Lambda functions + S3 event triggers which watch our model repository for updates, and immediately spawn a container with the appropriate new inference model loaded."
   ]
  },
  {
   "cell_type": "markdown",
   "metadata": {},
   "source": [
    "----\n",
    "# Step 4:  Serve your python backend model using NVIDIA Dynamo-Triton"
   ]
  },
  {
   "cell_type": "code",
   "execution_count": 15,
   "metadata": {
    "execution": {
     "iopub.execute_input": "2025-09-30T16:43:41.057414Z",
     "iopub.status.busy": "2025-09-30T16:43:41.057146Z",
     "iopub.status.idle": "2025-09-30T16:43:41.138502Z",
     "shell.execute_reply": "2025-09-30T16:43:41.137901Z",
     "shell.execute_reply.started": "2025-09-30T16:43:41.057394Z"
    }
   },
   "outputs": [],
   "source": [
    "import tritonclient.grpc as triton_grpc\n",
    "import tritonclient.http as httpclient\n",
    "from tritonclient import utils as triton_utils\n"
   ]
  },
  {
   "cell_type": "markdown",
   "metadata": {},
   "source": [
    "##### Replace HOST with the actual URL where your NVIDIA Dynamo-Triton server is hosted.\n"
   ]
  },
  {
   "cell_type": "code",
   "execution_count": 30,
   "metadata": {
    "execution": {
     "iopub.execute_input": "2025-09-30T21:43:04.910319Z",
     "iopub.status.busy": "2025-09-30T21:43:04.910057Z",
     "iopub.status.idle": "2025-09-30T21:43:04.913009Z",
     "shell.execute_reply": "2025-09-30T21:43:04.912538Z",
     "shell.execute_reply.started": "2025-09-30T21:43:04.910298Z"
    }
   },
   "outputs": [],
   "source": [
    "HTTP_PORT = 8005\n",
    "GRPC_PORT = 8006\n",
    "METRICS_PORT = 8007\n",
    "# HOST = inference_host\n",
    "HOST = \"triton-server-loadbalancer-842714457.us-east-1.elb.amazonaws.com\""
   ]
  },
  {
   "cell_type": "code",
   "execution_count": 39,
   "metadata": {
    "execution": {
     "iopub.execute_input": "2025-09-30T21:43:55.110036Z",
     "iopub.status.busy": "2025-09-30T21:43:55.109751Z",
     "iopub.status.idle": "2025-09-30T21:43:55.279815Z",
     "shell.execute_reply": "2025-09-30T21:43:55.279131Z",
     "shell.execute_reply.started": "2025-09-30T21:43:55.110013Z"
    }
   },
   "outputs": [
    {
     "name": "stdout",
     "output_type": "stream",
     "text": [
      "*   Trying 18.204.138.145:8005...\n",
      "* Connected to triton-server-loadbalancer-842714457.us-east-1.elb.amazonaws.com (18.204.138.145) port 8005 (#0)\n",
      "> GET /v2/health HTTP/1.1\n",
      "> Host: triton-server-loadbalancer-842714457.us-east-1.elb.amazonaws.com:8005\n",
      "> User-Agent: curl/7.81.0\n",
      "> Accept: */*\n",
      "> \n",
      "* Mark bundle as not supporting multiuse\n",
      "< HTTP/1.1 404 Not Found\n",
      "< Date: Tue, 30 Sep 2025 21:43:55 GMT\n",
      "< Content-Type: text/plain\n",
      "< Content-Length: 21\n",
      "< Connection: keep-alive\n",
      "< \n",
      "* Connection #0 to host triton-server-loadbalancer-842714457.us-east-1.elb.amazonaws.com left intact\n",
      "{\"error\":\"Not Found\"}"
     ]
    }
   ],
   "source": [
    "! curl -vvv http://$HOST:$HTTP_PORT/v2/health"
   ]
  },
  {
   "cell_type": "markdown",
   "metadata": {},
   "source": [
    "### URLs for GRPC and HTTP request to the inference server"
   ]
  },
  {
   "cell_type": "code",
   "execution_count": 40,
   "metadata": {
    "execution": {
     "iopub.execute_input": "2025-09-30T21:44:06.721984Z",
     "iopub.status.busy": "2025-09-30T21:44:06.721699Z",
     "iopub.status.idle": "2025-09-30T21:44:06.726387Z",
     "shell.execute_reply": "2025-09-30T21:44:06.725915Z",
     "shell.execute_reply.started": "2025-09-30T21:44:06.721962Z"
    }
   },
   "outputs": [],
   "source": [
    "client_grpc = triton_grpc.InferenceServerClient(url=f'{HOST}:{GRPC_PORT}')\n",
    "client_http = httpclient.InferenceServerClient(url=f'{HOST}:{HTTP_PORT}')"
   ]
  },
  {
   "cell_type": "markdown",
   "metadata": {},
   "source": [
    "## Prediction without computing Shapley values"
   ]
  },
  {
   "cell_type": "markdown",
   "metadata": {},
   "source": [
    "### Read preprocessed input transactions to send query to NVIDIA Dynamo-Triton"
   ]
  },
  {
   "cell_type": "code",
   "execution_count": 41,
   "metadata": {
    "execution": {
     "iopub.execute_input": "2025-09-30T21:44:08.005495Z",
     "iopub.status.busy": "2025-09-30T21:44:08.005237Z",
     "iopub.status.idle": "2025-09-30T21:44:08.233803Z",
     "shell.execute_reply": "2025-09-30T21:44:08.233280Z",
     "shell.execute_reply.started": "2025-09-30T21:44:08.005476Z"
    }
   },
   "outputs": [],
   "source": [
    "import os\n",
    "import pandas as pd\n",
    "import numpy as np\n",
    "\n",
    "model_name = \"prediction_and_shapley\"\n",
    "test_X_path = os.path.join(gnn_data_dir, \"test_gnn\", \"nodes/node.csv\") # already preprocessed data\n",
    "test_X = pd.read_csv(test_X_path)\n",
    "X = test_X.values.astype(np.float32)\n",
    "\n",
    "test_y_path = os.path.join(gnn_data_dir, \"test_gnn\", \"nodes/node_label.csv\") # already preprocessed data\n",
    "test_y = pd.read_csv(test_y_path)\n",
    "y = test_y.values.astype(np.float32)\n",
    "\n",
    "test_ei_path = os.path.join(gnn_data_dir, \"test_gnn\", \"edges/node_to_node.csv\") \n",
    "test_ei = pd.read_csv(test_ei_path)\n"
   ]
  },
  {
   "cell_type": "code",
   "execution_count": 42,
   "metadata": {
    "execution": {
     "iopub.execute_input": "2025-09-30T21:44:08.678609Z",
     "iopub.status.busy": "2025-09-30T21:44:08.678354Z",
     "iopub.status.idle": "2025-09-30T21:44:08.681429Z",
     "shell.execute_reply": "2025-09-30T21:44:08.680957Z",
     "shell.execute_reply.started": "2025-09-30T21:44:08.678589Z"
    }
   },
   "outputs": [],
   "source": [
    "edge_index = test_ei.values.T.astype(np.int64)\n",
    "compute_shap = np.array([False], dtype=bool) \n"
   ]
  },
  {
   "cell_type": "markdown",
   "metadata": {},
   "source": [
    "### Evaluate performance for a batch of transactions"
   ]
  },
  {
   "cell_type": "code",
   "execution_count": 43,
   "metadata": {
    "execution": {
     "iopub.execute_input": "2025-09-30T21:44:09.008849Z",
     "iopub.status.busy": "2025-09-30T21:44:09.008602Z",
     "iopub.status.idle": "2025-09-30T21:44:09.011611Z",
     "shell.execute_reply": "2025-09-30T21:44:09.011105Z",
     "shell.execute_reply.started": "2025-09-30T21:44:09.008830Z"
    }
   },
   "outputs": [],
   "source": [
    "from sklearn.metrics import (\n",
    "    confusion_matrix,\n",
    "    accuracy_score,\n",
    "    precision_score,\n",
    "    recall_score,\n",
    "    f1_score)\n",
    "import matplotlib.pyplot as plt\n",
    "from sklearn.metrics import ConfusionMatrixDisplay\n"
   ]
  },
  {
   "cell_type": "code",
   "execution_count": 44,
   "metadata": {
    "execution": {
     "iopub.execute_input": "2025-09-30T21:44:09.419216Z",
     "iopub.status.busy": "2025-09-30T21:44:09.418961Z",
     "iopub.status.idle": "2025-09-30T21:44:09.421702Z",
     "shell.execute_reply": "2025-09-30T21:44:09.421225Z",
     "shell.execute_reply.started": "2025-09-30T21:44:09.419198Z"
    }
   },
   "outputs": [],
   "source": [
    "# Decision threshold to flag a transaction as fraud\n",
    "#Change to trade-off precision and recall\n",
    "decision_threshold = 0.5"
   ]
  },
  {
   "cell_type": "code",
   "execution_count": 45,
   "metadata": {
    "execution": {
     "iopub.execute_input": "2025-09-30T21:44:09.597842Z",
     "iopub.status.busy": "2025-09-30T21:44:09.597637Z",
     "iopub.status.idle": "2025-09-30T21:44:09.605905Z",
     "shell.execute_reply": "2025-09-30T21:44:09.605469Z",
     "shell.execute_reply.started": "2025-09-30T21:44:09.597825Z"
    }
   },
   "outputs": [],
   "source": [
    "\n",
    "def compute_score_for_batch(edge_idx, X, y, batch_size, decision_threshold = 0.5, shap=False, feature_mask=None):\n",
    "    edge_index = edge_idx.T.astype(np.int64)\n",
    "    compute_shap = np.array([shap], dtype=bool) # Skip Shapley value computation\n",
    "    \n",
    "    with httpclient.InferenceServerClient(f\"{HOST}:{HTTP_PORT}\") as client:\n",
    "        input_features = httpclient.InferInput(\"NODE_FEATURES\", X.shape, datatype=\"FP32\")\n",
    "        input_features.set_data_from_numpy(X)\n",
    "\n",
    "        input_edge_indices = httpclient.InferInput(\"EDGE_INDEX\", edge_index.shape, datatype=\"INT64\")\n",
    "        input_edge_indices.set_data_from_numpy(edge_index)\n",
    "\n",
    "        # Even though Shapley values are not requested, it still requires a feature mask.\n",
    "        # It can be a dummy array of int values, but the length must be same as number of features.\n",
    "\n",
    "        if shap:\n",
    "            assert X.shape[1] == len(feature_mask)\n",
    "            feature_mask = np.array(feature_mask).astype(np.int32)\n",
    "        else:\n",
    "            feature_mask = np.zeros(X.shape[1]).astype(np.int32)\n",
    "\n",
    "        input_feature_mask = httpclient.InferInput(\"FEATURE_MASK\", feature_mask.shape, datatype=\"INT32\")\n",
    "        input_feature_mask.set_data_from_numpy(feature_mask)\n",
    "\n",
    "        compute_shap_flag = httpclient.InferInput(\"COMPUTE_SHAP\", compute_shap.shape, datatype=\"BOOL\")\n",
    "        compute_shap_flag.set_data_from_numpy(compute_shap)\n",
    "        \n",
    "        outputs = [\n",
    "            httpclient.InferRequestedOutput(\"PREDICTION\"),\n",
    "            httpclient.InferRequestedOutput(\"SHAP_VALUES\")\n",
    "        ]\n",
    "\n",
    "        # Send query to the server\n",
    "        response = client.infer(\n",
    "            model_name,\n",
    "            inputs=[input_features, input_edge_indices, compute_shap_flag, input_feature_mask],\n",
    "            request_id=str(1),\n",
    "            outputs=outputs,\n",
    "            timeout= 3000\n",
    "            )\n",
    "        \n",
    "    predictions = response.as_numpy('PREDICTION')\n",
    "\n",
    "    assert y.sum() == y[-batch_size:].sum()\n",
    "    if shap == False:\n",
    "        y_pred = (predictions > decision_threshold).astype(int)\n",
    "        \n",
    "        # Compute evaluation metrics\n",
    "        accuracy = accuracy_score(y[-batch_size:], y_pred[-batch_size:])\n",
    "        precision = precision_score(y[-batch_size:], y_pred[-batch_size:], zero_division=0)\n",
    "        recall = recall_score(y[-batch_size:], y_pred[-batch_size:], zero_division=0)\n",
    "        f1 = f1_score(y[-batch_size:], y_pred[-batch_size:], zero_division=0)\n",
    "\n",
    "\n",
    "\n",
    "        classes = ['Non-Fraud', 'Fraud']\n",
    "        columns = pd.MultiIndex.from_product([[\"Predicted\"], classes])\n",
    "        index = pd.MultiIndex.from_product([[\"Actual\"], classes])\n",
    "\n",
    "        conf_mat = confusion_matrix(y[-batch_size:], y_pred[-batch_size:])\n",
    "        cm_df = pd.DataFrame(conf_mat, index=index, columns=columns)\n",
    "        print(cm_df)\n",
    "\n",
    "        # Plot the confusion matrix directly from predictions\n",
    "        disp = ConfusionMatrixDisplay.from_predictions(\n",
    "            y[-batch_size:], y_pred[-batch_size:], display_labels=classes)\n",
    "        disp.ax_.set_title('Confusion Matrix')\n",
    "        plt.show()\n",
    "\n",
    "        print(\"----Summary---\")\n",
    "        print(f\"Accuracy: {accuracy:.4f}\")\n",
    "        print(f\"Precision: {precision:.4f}\")\n",
    "        print(f\"Recall: {recall:.4f}\")\n",
    "        print(f\"F1 Score: {f1:.4f}\")\n",
    "\n",
    "    return predictions, response.as_numpy('SHAP_VALUES') if shap else None\n"
   ]
  },
  {
   "cell_type": "markdown",
   "metadata": {},
   "source": [
    "#### Sample a batch of transactions from the test data"
   ]
  },
  {
   "cell_type": "code",
   "execution_count": 46,
   "metadata": {
    "execution": {
     "iopub.execute_input": "2025-09-30T21:44:10.291456Z",
     "iopub.status.busy": "2025-09-30T21:44:10.291166Z",
     "iopub.status.idle": "2025-09-30T21:44:10.313849Z",
     "shell.execute_reply": "2025-09-30T21:44:10.313328Z",
     "shell.execute_reply.started": "2025-09-30T21:44:10.291435Z"
    }
   },
   "outputs": [],
   "source": [
    "# NOTE:\n",
    "# In the preprocessing code, zero-based user node indices come first, \n",
    "# followed by merchant node indices, and then transaction node indices.\n",
    "\n",
    "# Each transaction is represented by four edges,\n",
    "    # user to transaction,\n",
    "    # transaction to merchant,\n",
    "    # transaction to user\n",
    "    # merchant to transaction\n",
    "\n",
    "# Each transaction involves three nodes - an user, a transaction and a merchant\n",
    "\n",
    "\n",
    "NR_TX =  test_ei.shape[0]//4\n",
    "batch_size = NR_TX\n",
    "\n",
    "transaction_batch = np.random.choice(NR_TX, size=batch_size, replace=False)\n",
    "idx_of_edges = transaction_batch.reshape(-1, 1) + np.arange(4)*NR_TX\n",
    "edges_batch = test_ei.iloc[idx_of_edges.ravel()]\n",
    "unique_vertices, renumbered_edges =  np.unique(edges_batch.values, return_inverse=True)\n",
    "eidx = renumbered_edges.reshape(edges_batch.shape)"
   ]
  },
  {
   "cell_type": "code",
   "execution_count": 47,
   "metadata": {
    "execution": {
     "iopub.execute_input": "2025-09-30T21:44:10.480821Z",
     "iopub.status.busy": "2025-09-30T21:44:10.480576Z",
     "iopub.status.idle": "2025-09-30T21:44:10.485053Z",
     "shell.execute_reply": "2025-09-30T21:44:10.484601Z",
     "shell.execute_reply.started": "2025-09-30T21:44:10.480803Z"
    }
   },
   "outputs": [
    {
     "data": {
      "text/plain": [
       "(2087.0, 2087.0)"
      ]
     },
     "execution_count": 47,
     "metadata": {},
     "output_type": "execute_result"
    }
   ],
   "source": [
    "assert y[unique_vertices][-batch_size:].sum() == y[unique_vertices].sum()\n",
    "y[unique_vertices][-batch_size:].sum(), y[unique_vertices].sum()"
   ]
  },
  {
   "cell_type": "code",
   "execution_count": 48,
   "metadata": {
    "execution": {
     "iopub.execute_input": "2025-09-30T21:44:11.258682Z",
     "iopub.status.busy": "2025-09-30T21:44:11.258420Z",
     "iopub.status.idle": "2025-09-30T21:44:12.117171Z",
     "shell.execute_reply": "2025-09-30T21:44:12.116685Z",
     "shell.execute_reply.started": "2025-09-30T21:44:11.258663Z"
    }
   },
   "outputs": [
    {
     "name": "stdout",
     "output_type": "stream",
     "text": [
      "                 Predicted      \n",
      "                 Non-Fraud Fraud\n",
      "Actual Non-Fraud     23668    48\n",
      "       Fraud          2087     0\n"
     ]
    },
    {
     "data": {
      "image/png": "[encoded data removed]",
      "text/plain": [
       "<Figure size 640x480 with 2 Axes>"
      ]
     },
     "metadata": {},
     "output_type": "display_data"
    },
    {
     "name": "stdout",
     "output_type": "stream",
     "text": [
      "----Summary---\n",
      "Accuracy: 0.9173\n",
      "Precision: 0.0000\n",
      "Recall: 0.0000\n",
      "F1 Score: 0.0000\n"
     ]
    }
   ],
   "source": [
    "predictions, _ = compute_score_for_batch(eidx, X[unique_vertices], y[unique_vertices], batch_size=batch_size)"
   ]
  },
  {
   "cell_type": "markdown",
   "metadata": {},
   "source": [
    "### Compute Shapley values of different features for a transaction\n",
    "NOTE: Shapely computation is very expensive"
   ]
  },
  {
   "cell_type": "code",
   "execution_count": 52,
   "metadata": {
    "execution": {
     "iopub.execute_input": "2025-09-30T21:46:25.384241Z",
     "iopub.status.busy": "2025-09-30T21:46:25.384004Z",
     "iopub.status.idle": "2025-09-30T21:46:42.728237Z",
     "shell.execute_reply": "2025-09-30T21:46:42.727700Z",
     "shell.execute_reply.started": "2025-09-30T21:46:25.384223Z"
    }
   },
   "outputs": [],
   "source": [
    "NR_TX =  test_ei.shape[0]//4\n",
    "batch_size = 1 \n",
    "\n",
    "transaction_batch = np.random.choice(NR_TX, size=batch_size, replace=False)\n",
    "idx_of_edges = transaction_batch.reshape(-1, 1) + np.arange(4)*NR_TX\n",
    "\n",
    "edges_batch = test_ei.iloc[idx_of_edges.ravel()]\n",
    "unique_vertices, renumbered_edges =  np.unique(edges_batch.values, return_inverse=True)\n",
    "\n",
    "\n",
    "predictions, shap_values = compute_score_for_batch(renumbered_edges.reshape(edges_batch.shape), X[unique_vertices], y[unique_vertices], batch_size=batch_size, shap=True, feature_mask=feature_mask)"
   ]
  },
  {
   "cell_type": "code",
   "execution_count": 53,
   "metadata": {
    "execution": {
     "iopub.execute_input": "2025-09-30T21:46:42.728970Z",
     "iopub.status.busy": "2025-09-30T21:46:42.728780Z",
     "iopub.status.idle": "2025-09-30T21:46:42.731662Z",
     "shell.execute_reply": "2025-09-30T21:46:42.731189Z",
     "shell.execute_reply.started": "2025-09-30T21:46:42.728953Z"
    }
   },
   "outputs": [],
   "source": [
    "feature_to_attribution_map = dict(zip(feature_mask, shap_values[2]))\n",
    "feature_name_to_id_map = {v:k for k, v in mask_mapping.items()}"
   ]
  },
  {
   "cell_type": "markdown",
   "metadata": {},
   "source": [
    "#### Shapley values for different features"
   ]
  },
  {
   "cell_type": "code",
   "execution_count": 54,
   "metadata": {
    "execution": {
     "iopub.execute_input": "2025-09-30T21:46:42.732660Z",
     "iopub.status.busy": "2025-09-30T21:46:42.732478Z",
     "iopub.status.idle": "2025-09-30T21:46:42.736542Z",
     "shell.execute_reply": "2025-09-30T21:46:42.736132Z",
     "shell.execute_reply.started": "2025-09-30T21:46:42.732644Z"
    }
   },
   "outputs": [
    {
     "data": {
      "text/plain": [
       "{'Card': '-0.015',\n",
       " 'Merchant': '0.004',\n",
       " 'MCC': '-0.005',\n",
       " 'Zip': '-0.077',\n",
       " 'Errors': '0.299',\n",
       " 'City': '-0.131',\n",
       " 'Chip': '-0.079',\n",
       " 'Amount': '0.003'}"
      ]
     },
     "execution_count": 54,
     "metadata": {},
     "output_type": "execute_result"
    }
   ],
   "source": [
    "{feature_name_to_id_map[k]: f\"{v:.3f}\" for k, v in feature_to_attribution_map.items()}"
   ]
  },
  {
   "cell_type": "code",
   "execution_count": null,
   "metadata": {},
   "outputs": [],
   "source": []
  }
 ],
 "metadata": {
  "kernelspec": {
   "display_name": "user_env:(fraud_blueprint_env)",
   "language": "python",
   "name": "fraud_blueprint_env"
  },
  "language_info": {
   "codemirror_mode": {
    "name": "ipython",
    "version": 3
   },
   "file_extension": ".py",
   "mimetype": "text/x-python",
   "name": "python",
   "nbconvert_exporter": "python",
   "pygments_lexer": "ipython3",
   "version": "3.12.11"
  }
 },
 "nbformat": 4,
 "nbformat_minor": 4
}
